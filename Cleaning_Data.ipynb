{
  "nbformat": 4,
  "nbformat_minor": 0,
  "metadata": {
    "colab": {
      "provenance": []
    },
    "kernelspec": {
      "name": "python3",
      "display_name": "Python 3"
    },
    "language_info": {
      "name": "python"
    }
  },
  "cells": [
    {
      "cell_type": "code",
      "source": [
        "from google.colab import drive\n",
        "drive.mount('/content/drive')"
      ],
      "metadata": {
        "colab": {
          "base_uri": "https://localhost:8080/"
        },
        "id": "Med32dwBa714",
        "outputId": "6e84efc6-2578-4894-8068-3827b2600475"
      },
      "execution_count": null,
      "outputs": [
        {
          "output_type": "stream",
          "name": "stdout",
          "text": [
            "Drive already mounted at /content/drive; to attempt to forcibly remount, call drive.mount(\"/content/drive\", force_remount=True).\n"
          ]
        }
      ]
    },
    {
      "cell_type": "code",
      "execution_count": null,
      "metadata": {
        "id": "64aQVRIsYn6o",
        "colab": {
          "base_uri": "https://localhost:8080/"
        },
        "outputId": "dd9a839a-e310-4701-8803-1f86d53cac5b"
      },
      "outputs": [
        {
          "output_type": "stream",
          "name": "stdout",
          "text": [
            "Data cleaning completed.\n",
            "Summary Information:\n",
            "<class 'pandas.core.frame.DataFrame'>\n",
            "RangeIndex: 48895 entries, 0 to 48894\n",
            "Data columns (total 16 columns):\n",
            " #   Column                          Non-Null Count  Dtype         \n",
            "---  ------                          --------------  -----         \n",
            " 0   id                              48895 non-null  int64         \n",
            " 1   name                            48879 non-null  object        \n",
            " 2   host_id                         48895 non-null  int64         \n",
            " 3   host_name                       48874 non-null  object        \n",
            " 4   neighbourhood_group             48895 non-null  object        \n",
            " 5   neighbourhood                   48895 non-null  object        \n",
            " 6   latitude                        48895 non-null  float64       \n",
            " 7   longitude                       48895 non-null  float64       \n",
            " 8   room_type                       48895 non-null  object        \n",
            " 9   price                           48895 non-null  int64         \n",
            " 10  minimum_nights                  48895 non-null  int64         \n",
            " 11  number_of_reviews               48895 non-null  int64         \n",
            " 12  last_review                     38843 non-null  datetime64[ns]\n",
            " 13  reviews_per_month               38843 non-null  float64       \n",
            " 14  calculated_host_listings_count  48895 non-null  int64         \n",
            " 15  availability_365                48895 non-null  int64         \n",
            "dtypes: datetime64[ns](1), float64(3), int64(7), object(5)\n",
            "memory usage: 6.0+ MB\n",
            "None\n"
          ]
        }
      ],
      "source": [
        "import pandas as pd\n",
        "\n",
        "# Load the dataset\n",
        "file_path = '/content/drive/MyDrive/AB_NYC_2019.csv'\n",
        "df = pd.read_csv(file_path)\n",
        "\n",
        "df.fillna(value={'price': df['price'].mean()}, inplace=True)\n",
        "\n",
        "df.drop_duplicates(subset=['id'], keep='first', inplace=True)\n",
        "\n",
        "df['last_review'] = pd.to_datetime(df['last_review'])\n",
        "\n",
        "cleaned_file_path = '/content/drive/MyDrive/AB_NYC_2019.csv'\n",
        "df.to_csv(cleaned_file_path, index=False)\n",
        "\n",
        "# Print summary information\n",
        "print(\"Data cleaning completed.\")\n",
        "print(\"Summary Information:\")\n",
        "print(df.info())\n"
      ]
    },
    {
      "cell_type": "code",
      "source": [
        "# Missing Data Handling: Dealing with missing values by either imputing them or making informed decisions on how to handle gaps in the dataset"
      ],
      "metadata": {
        "id": "4glzTFumbLtu"
      },
      "execution_count": null,
      "outputs": []
    },
    {
      "cell_type": "code",
      "source": [
        "missing_values = df.isnull().sum()\n",
        "print(\"Missing Values:\")\n",
        "print(missing_values)\n",
        "\n",
        "mean_price = df['price'].mean()\n",
        "df['price'].fillna(mean_price, inplace=True)\n",
        "\n",
        "df.dropna(subset=['last_review'], inplace=True)\n",
        "\n",
        "cleaned_file_path = '/content/drive/MyDrive/AB_NYC_2019.csv'\n",
        "df.to_csv(cleaned_file_path, index=False)\n",
        "\n",
        "# Print summary information\n",
        "print(\"Missing data handling completed.\")\n",
        "print(\"Summary Information:\")\n",
        "print(df.info())"
      ],
      "metadata": {
        "colab": {
          "base_uri": "https://localhost:8080/"
        },
        "id": "FT1TtSqxbUVG",
        "outputId": "21118e6b-4372-424f-9f39-01358e577346"
      },
      "execution_count": null,
      "outputs": [
        {
          "output_type": "stream",
          "name": "stdout",
          "text": [
            "Missing Values:\n",
            "id                                 0\n",
            "name                               6\n",
            "host_id                            0\n",
            "host_name                         16\n",
            "neighbourhood_group                0\n",
            "neighbourhood                      0\n",
            "latitude                           0\n",
            "longitude                          0\n",
            "room_type                          0\n",
            "price                              0\n",
            "minimum_nights                     0\n",
            "number_of_reviews                  0\n",
            "last_review                        0\n",
            "reviews_per_month                  0\n",
            "calculated_host_listings_count     0\n",
            "availability_365                   0\n",
            "dtype: int64\n",
            "Missing data handling completed.\n",
            "Summary Information:\n",
            "<class 'pandas.core.frame.DataFrame'>\n",
            "Index: 38843 entries, 0 to 48852\n",
            "Data columns (total 16 columns):\n",
            " #   Column                          Non-Null Count  Dtype         \n",
            "---  ------                          --------------  -----         \n",
            " 0   id                              38843 non-null  int64         \n",
            " 1   name                            38837 non-null  object        \n",
            " 2   host_id                         38843 non-null  int64         \n",
            " 3   host_name                       38827 non-null  object        \n",
            " 4   neighbourhood_group             38843 non-null  object        \n",
            " 5   neighbourhood                   38843 non-null  object        \n",
            " 6   latitude                        38843 non-null  float64       \n",
            " 7   longitude                       38843 non-null  float64       \n",
            " 8   room_type                       38843 non-null  object        \n",
            " 9   price                           38843 non-null  int64         \n",
            " 10  minimum_nights                  38843 non-null  int64         \n",
            " 11  number_of_reviews               38843 non-null  int64         \n",
            " 12  last_review                     38843 non-null  datetime64[ns]\n",
            " 13  reviews_per_month               38843 non-null  float64       \n",
            " 14  calculated_host_listings_count  38843 non-null  int64         \n",
            " 15  availability_365                38843 non-null  int64         \n",
            "dtypes: datetime64[ns](1), float64(3), int64(7), object(5)\n",
            "memory usage: 5.0+ MB\n",
            "None\n"
          ]
        }
      ]
    },
    {
      "cell_type": "code",
      "source": [
        "# Duplicate Removal: Identifying and eliminating duplicate records to maintain data uniqueness"
      ],
      "metadata": {
        "id": "qlPy0UVRbwK1"
      },
      "execution_count": null,
      "outputs": []
    },
    {
      "cell_type": "code",
      "source": [
        "duplicate_rows = df[df.duplicated(subset=['id'], keep='first')]  # Change 'id' to the column(s) you want to check for duplicates\n",
        "print(\"Duplicate Records:\")\n",
        "print(duplicate_rows)\n",
        "\n",
        "# Remove duplicate records\n",
        "df.drop_duplicates(subset=['id'], keep='first', inplace=True)  # Change 'id' to the column(s) you want to remove duplicates based on\n",
        "\n",
        "cleaned_file_path = '/content/drive/MyDrive/AB_NYC_2019.csv'\n",
        "df.to_csv(cleaned_file_path, index=False)\n",
        "\n",
        "# Print summary information\n",
        "print(\"Duplicate removal completed.\")\n",
        "print(\"Summary Information:\")\n",
        "print(df.info())\n"
      ],
      "metadata": {
        "colab": {
          "base_uri": "https://localhost:8080/"
        },
        "id": "qy1QYxWxb12Y",
        "outputId": "80784e66-1157-493c-81da-2294c596e1f5"
      },
      "execution_count": null,
      "outputs": [
        {
          "output_type": "stream",
          "name": "stdout",
          "text": [
            "Duplicate Records:\n",
            "Empty DataFrame\n",
            "Columns: [id, name, host_id, host_name, neighbourhood_group, neighbourhood, latitude, longitude, room_type, price, minimum_nights, number_of_reviews, last_review, reviews_per_month, calculated_host_listings_count, availability_365]\n",
            "Index: []\n",
            "Duplicate removal completed.\n",
            "Summary Information:\n",
            "<class 'pandas.core.frame.DataFrame'>\n",
            "Index: 38843 entries, 0 to 48852\n",
            "Data columns (total 16 columns):\n",
            " #   Column                          Non-Null Count  Dtype         \n",
            "---  ------                          --------------  -----         \n",
            " 0   id                              38843 non-null  int64         \n",
            " 1   name                            38837 non-null  object        \n",
            " 2   host_id                         38843 non-null  int64         \n",
            " 3   host_name                       38827 non-null  object        \n",
            " 4   neighbourhood_group             38843 non-null  object        \n",
            " 5   neighbourhood                   38843 non-null  object        \n",
            " 6   latitude                        38843 non-null  float64       \n",
            " 7   longitude                       38843 non-null  float64       \n",
            " 8   room_type                       38843 non-null  object        \n",
            " 9   price                           38843 non-null  int64         \n",
            " 10  minimum_nights                  38843 non-null  int64         \n",
            " 11  number_of_reviews               38843 non-null  int64         \n",
            " 12  last_review                     38843 non-null  datetime64[ns]\n",
            " 13  reviews_per_month               38843 non-null  float64       \n",
            " 14  calculated_host_listings_count  38843 non-null  int64         \n",
            " 15  availability_365                38843 non-null  int64         \n",
            "dtypes: datetime64[ns](1), float64(3), int64(7), object(5)\n",
            "memory usage: 5.0+ MB\n",
            "None\n"
          ]
        }
      ]
    },
    {
      "cell_type": "code",
      "source": [
        "# Standardization: Consistent formatting and units across the dataset for accurate analysis."
      ],
      "metadata": {
        "id": "PPlA7X4acIog"
      },
      "execution_count": null,
      "outputs": []
    },
    {
      "cell_type": "code",
      "source": [
        "df['price'] = df['price'] * 0.84\n",
        "if 'date' in df.columns:\n",
        "    df['date'] = pd.to_datetime(df['date'], format='%Y-%m-%d')\n",
        "else:\n",
        "    print(\"Column 'date' not found in the DataFrame.\")\n",
        "\n",
        "cleaned_file_path = '/content/drive/MyDrive/AB_NYC_2019.csv'\n",
        "df.to_csv(cleaned_file_path, index=False)\n",
        "\n",
        "# Print summary information\n",
        "print(\"Standardization completed.\")\n",
        "print(\"Summary Information:\")\n",
        "print(df.info())\n"
      ],
      "metadata": {
        "colab": {
          "base_uri": "https://localhost:8080/"
        },
        "id": "I-7BTkqlcNmb",
        "outputId": "12643ec7-8429-420d-af51-211da78146a9"
      },
      "execution_count": null,
      "outputs": [
        {
          "output_type": "stream",
          "name": "stdout",
          "text": [
            "Column 'date' not found in the DataFrame.\n",
            "Standardization completed.\n",
            "Summary Information:\n",
            "<class 'pandas.core.frame.DataFrame'>\n",
            "Index: 38843 entries, 0 to 48852\n",
            "Data columns (total 16 columns):\n",
            " #   Column                          Non-Null Count  Dtype         \n",
            "---  ------                          --------------  -----         \n",
            " 0   id                              38843 non-null  int64         \n",
            " 1   name                            38837 non-null  object        \n",
            " 2   host_id                         38843 non-null  int64         \n",
            " 3   host_name                       38827 non-null  object        \n",
            " 4   neighbourhood_group             38843 non-null  object        \n",
            " 5   neighbourhood                   38843 non-null  object        \n",
            " 6   latitude                        38843 non-null  float64       \n",
            " 7   longitude                       38843 non-null  float64       \n",
            " 8   room_type                       38843 non-null  object        \n",
            " 9   price                           38843 non-null  float64       \n",
            " 10  minimum_nights                  38843 non-null  int64         \n",
            " 11  number_of_reviews               38843 non-null  int64         \n",
            " 12  last_review                     38843 non-null  datetime64[ns]\n",
            " 13  reviews_per_month               38843 non-null  float64       \n",
            " 14  calculated_host_listings_count  38843 non-null  int64         \n",
            " 15  availability_365                38843 non-null  int64         \n",
            "dtypes: datetime64[ns](1), float64(4), int64(6), object(5)\n",
            "memory usage: 5.0+ MB\n",
            "None\n"
          ]
        }
      ]
    },
    {
      "cell_type": "code",
      "source": [
        "# Outlier Detection: Identifying and addressing outliers that may skew analysis or model performance"
      ],
      "metadata": {
        "id": "w4okAcjkcviM"
      },
      "execution_count": null,
      "outputs": []
    },
    {
      "cell_type": "code",
      "source": [
        "import numpy as np\n",
        "\n",
        "numeric_cols = df.select_dtypes(include=np.number).columns\n",
        "z_scores = df[numeric_cols].apply(lambda x: (x - x.mean()) / x.std())\n",
        "\n",
        "outlier_threshold = 3\n",
        "\n",
        "outliers = df[(z_scores > outlier_threshold).any(axis=1)]\n",
        "\n",
        "print(\"Outliers Identified:\")\n",
        "print(outliers)\n",
        "\n",
        "print(\"Outlier detection completed.\")\n",
        "print(\"Summary Information:\")\n",
        "df.info()"
      ],
      "metadata": {
        "colab": {
          "base_uri": "https://localhost:8080/"
        },
        "id": "PAascYdHc0lS",
        "outputId": "553a9d16-d319-4083-e08b-e2977e0ab971"
      },
      "execution_count": null,
      "outputs": [
        {
          "output_type": "stream",
          "name": "stdout",
          "text": [
            "Outliers Identified:\n",
            "             id                                               name    host_id  \\\n",
            "3          3831                    Cozy Entire Floor of Brownstone       4869   \n",
            "7          5178                   Large Furnished Room Near B'way        8967   \n",
            "11         5441                    Central Manhattan/near Broadway       7989   \n",
            "14         6090                      West Village Nest - Superhost      11975   \n",
            "16         7097                  Perfect for Your Parents + Garden      17571   \n",
            "...         ...                                                ...        ...   \n",
            "48033  36041232          Nice house room 2 near van cortlandt park  230720704   \n",
            "48126  36101190                                   Flushing Hideout   30839692   \n",
            "48127  36101396                            7 minutes away from JFK   83974928   \n",
            "48293  36182136                            House by the beach side  234781729   \n",
            "48526  36309284  Private Room Near JFK, St John's Hospital, & B...  234090781   \n",
            "\n",
            "         host_name neighbourhood_group    neighbourhood  latitude  longitude  \\\n",
            "3      LisaRoxanne            Brooklyn     Clinton Hill  40.68514  -73.95976   \n",
            "7         Shunichi           Manhattan   Hell's Kitchen  40.76489  -73.98493   \n",
            "11            Kate           Manhattan   Hell's Kitchen  40.76076  -73.98867   \n",
            "14           Alina           Manhattan     West Village  40.73530  -74.00525   \n",
            "16            Jane            Brooklyn      Fort Greene  40.69169  -73.97185   \n",
            "...            ...                 ...              ...       ...        ...   \n",
            "48033           Pp               Bronx  North Riverdale  40.91167  -73.89566   \n",
            "48126      Stavros              Queens         Flushing  40.75406  -73.80613   \n",
            "48127       Danica              Queens        Laurelton  40.66992  -73.74518   \n",
            "48293        Nikky              Queens         Edgemere  40.59309  -73.77958   \n",
            "48526      Phoenix              Queens        Bayswater  40.60804  -73.75829   \n",
            "\n",
            "             room_type     price  minimum_nights  number_of_reviews  \\\n",
            "3      Entire home/apt   62.7984               1                270   \n",
            "7         Private room   55.7424               2                430   \n",
            "11        Private room   59.9760               2                188   \n",
            "14     Entire home/apt   84.6720              90                 27   \n",
            "16     Entire home/apt  151.7040               2                198   \n",
            "...                ...       ...             ...                ...   \n",
            "48033     Private room   28.2240               1                  1   \n",
            "48126      Shared room   17.6400               1                  1   \n",
            "48127     Private room   23.9904               1                  3   \n",
            "48293     Private room   45.8640               1                  2   \n",
            "48526     Private room   31.7520               3                  1   \n",
            "\n",
            "      last_review  reviews_per_month  calculated_host_listings_count  \\\n",
            "3      2019-07-05               4.64                               1   \n",
            "7      2019-06-24               3.47                               1   \n",
            "11     2019-06-23               1.50                               1   \n",
            "14     2018-10-31               0.22                               1   \n",
            "16     2019-06-28               1.72                               1   \n",
            "...           ...                ...                             ...   \n",
            "48033  2019-07-06               1.00                               3   \n",
            "48126  2019-06-30               1.00                               3   \n",
            "48127  2019-07-08               3.00                               1   \n",
            "48293  2019-07-06               2.00                               1   \n",
            "48526  2019-07-04               1.00                               2   \n",
            "\n",
            "       availability_365  \n",
            "3                   194  \n",
            "7                   220  \n",
            "11                   39  \n",
            "14                    0  \n",
            "16                  321  \n",
            "...                 ...  \n",
            "48033               174  \n",
            "48126                86  \n",
            "48127                70  \n",
            "48293               363  \n",
            "48526                90  \n",
            "\n",
            "[3299 rows x 16 columns]\n",
            "Outlier detection completed.\n",
            "Summary Information:\n",
            "<class 'pandas.core.frame.DataFrame'>\n",
            "Index: 38843 entries, 0 to 48852\n",
            "Data columns (total 16 columns):\n",
            " #   Column                          Non-Null Count  Dtype         \n",
            "---  ------                          --------------  -----         \n",
            " 0   id                              38843 non-null  int64         \n",
            " 1   name                            38837 non-null  object        \n",
            " 2   host_id                         38843 non-null  int64         \n",
            " 3   host_name                       38827 non-null  object        \n",
            " 4   neighbourhood_group             38843 non-null  object        \n",
            " 5   neighbourhood                   38843 non-null  object        \n",
            " 6   latitude                        38843 non-null  float64       \n",
            " 7   longitude                       38843 non-null  float64       \n",
            " 8   room_type                       38843 non-null  object        \n",
            " 9   price                           38843 non-null  float64       \n",
            " 10  minimum_nights                  38843 non-null  int64         \n",
            " 11  number_of_reviews               38843 non-null  int64         \n",
            " 12  last_review                     38843 non-null  datetime64[ns]\n",
            " 13  reviews_per_month               38843 non-null  float64       \n",
            " 14  calculated_host_listings_count  38843 non-null  int64         \n",
            " 15  availability_365                38843 non-null  int64         \n",
            "dtypes: datetime64[ns](1), float64(4), int64(6), object(5)\n",
            "memory usage: 5.0+ MB\n"
          ]
        }
      ]
    }
  ]
}